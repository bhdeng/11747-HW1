{
 "cells": [
  {
   "cell_type": "code",
   "execution_count": null,
   "metadata": {},
   "outputs": [],
   "source": [
    "from collections import Counter\n",
    "\n",
    "word_dict = Counter()\n",
    "\n",
    "def count_dataset(filename):\n",
    "    with open(filename, \"r\") as f:\n",
    "        for line in f:\n",
    "            topic, words = line.lower().strip().split(\" ||| \")\n",
    "            words = words.split(\" \")\n",
    "            for w in words:\n",
    "                word_dict[w.lower()] += 1\n",
    "\n",
    "count_dataset(\"./topicclass/topicclass_train.txt\")\n",
    "len(word_dict)"
   ]
  },
  {
   "cell_type": "code",
   "execution_count": null,
   "metadata": {},
   "outputs": [],
   "source": [
    "truncated_word_dict = defaultdict(lambda: len(truncated_word_dict))\n",
    "truncated_word_dict[\"<unk>\"]\n",
    "for w in word_dict.keys():\n",
    "    if word_dict[w] > 1:\n",
    "        truncated_word_dict[w]\n",
    "len(truncated_word_dict)"
   ]
  },
  {
   "cell_type": "code",
   "execution_count": null,
   "metadata": {},
   "outputs": [],
   "source": [
    "np.save(\"vocab.npy\", dict(truncated_word_dict))"
   ]
  }
 ],
 "metadata": {
  "kernelspec": {
   "display_name": "Python 3",
   "language": "python",
   "name": "python3"
  },
  "language_info": {
   "codemirror_mode": {
    "name": "ipython",
    "version": 3
   },
   "file_extension": ".py",
   "mimetype": "text/x-python",
   "name": "python",
   "nbconvert_exporter": "python",
   "pygments_lexer": "ipython3",
   "version": "3.6.5"
  }
 },
 "nbformat": 4,
 "nbformat_minor": 2
}
